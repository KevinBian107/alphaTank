{
 "cells": [
  {
   "cell_type": "code",
   "execution_count": null,
   "metadata": {},
   "outputs": [
    {
     "name": "stdout",
     "output_type": "stream",
     "text": [
      "Grid: [[0, 0, 1, 0], [0, 1, 1, 0], [0, 0, 0, 0], [1, 0, 0, 0]]\n",
      "Resulting path: [(0, 0), (1, 0), (2, 0), (2, 1), (3, 1), (3, 2), (3, 3)]\n"
     ]
    }
   ],
   "source": [
    "from collections import deque\n",
    "\n",
    "def bfs_path(grid, start, goal):\n",
    "    print(\"Grid:\", grid)\n",
    "    rows = len(grid)\n",
    "    cols = len(grid[0])\n",
    "\n",
    "    if not (0 <= start[0] < rows and 0 <= start[1] < cols):\n",
    "        print(\"the start agent not on the map\")\n",
    "        return None\n",
    "    if not (0 <= goal[0] < rows and 0 <= goal[1] < cols):\n",
    "        print(\"the end agent not on the map\")\n",
    "        return None\n",
    "    if grid[start[0]][start[1]] == 1 or grid[goal[0]][goal[1]] == 1:\n",
    "        print(\"the agent starts in the wall.\")\n",
    "        return None\n",
    "\n",
    "    visited = [[False]*cols for _ in range(rows)]\n",
    "    parent = dict()\n",
    "\n",
    "    queue = deque([start])\n",
    "    visited[start[0]][start[1]] = True\n",
    "    found = False\n",
    "\n",
    "    directions = [(-1, 0), (1, 0), (0, -1), (0, 1)]\n",
    "\n",
    "    while queue and not found:\n",
    "        r, c = queue.popleft()\n",
    "        if (r, c) == goal:\n",
    "            found = True\n",
    "            break\n",
    "\n",
    "        for dr, dc in directions:\n",
    "            nr, nc = r + dr, c + dc\n",
    "            if 0 <= nr < rows and 0 <= nc < cols:\n",
    "                if not visited[nr][nc] and grid[nr][nc] == 0:\n",
    "                    visited[nr][nc] = True\n",
    "                    parent[(nr, nc)] = (r, c)\n",
    "                    queue.append((nr, nc))\n",
    "\n",
    "    if not found:\n",
    "        print(\"not found\")\n",
    "        return None\n",
    "\n",
    "    # Retrace the path\n",
    "    path = []\n",
    "    cur = goal\n",
    "    while cur != start:\n",
    "        path.append(cur)\n",
    "        cur = parent[cur]\n",
    "    path.append(start)\n",
    "    path.reverse()\n",
    "    return path\n",
    "\n",
    "\n",
    "def test_bfs():\n",
    "    # A 4x4 grid:\n",
    "    #  0 = free cell\n",
    "    #  1 = wall\n",
    "    #\n",
    "    #  Let's place a single wall at (1,1) and (1,2).\n",
    "    #  BFS should find a path from (0,0) to (3,3).\n",
    "    grid = [[1, 1, 1, 1, 1, 1, 1, 1, 1, 1, 1], [1, 0, 0, 0, 1, 0, 1, 0, 0, 0, 1], [1, 0, 1, 1, 1, 0, 1, 1, 1, 0, 1], [1, 0, 0, 0, 0, 0, 1, 0, 0, 0, 1], [1, 1, 1, 1, 1, 0, 1, 0, 1, 1, 1], [1, 0, 0, 0, 0, 0, 1, 0, 0, 0, 1], [1, 1, 1, 1, 1, 0, 1, 0, 1, 1, 1], [1, 0, 1, 0, 0, 0, 0, 0, 0, 0, 1], [1, 0, 1, 1, 1, 0, 1, 0, 1, 0, 1], [1, 0, 0, 0, 0, 0, 1, 0, 1, 0, 1], [1, 1, 1, 1, 1, 1, 1, 1, 1, 1, 1]]\n",
    "    start = (0, 0)\n",
    "    goal = (3, 3)\n",
    "\n",
    "    path = bfs_path(grid, start, goal)\n",
    "    print(\"Resulting path:\", path)\n",
    "\n",
    "test_bfs()\n",
    "\n"
   ]
  },
  {
   "cell_type": "code",
   "execution_count": null,
   "metadata": {},
   "outputs": [],
   "source": []
  }
 ],
 "metadata": {
  "kernelspec": {
   "display_name": "base",
   "language": "python",
   "name": "python3"
  },
  "language_info": {
   "codemirror_mode": {
    "name": "ipython",
    "version": 3
   },
   "file_extension": ".py",
   "mimetype": "text/x-python",
   "name": "python",
   "nbconvert_exporter": "python",
   "pygments_lexer": "ipython3",
   "version": "3.9.20"
  }
 },
 "nbformat": 4,
 "nbformat_minor": 2
}
